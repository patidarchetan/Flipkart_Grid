{
 "cells": [
  {
   "cell_type": "code",
   "execution_count": 2,
   "id": "955f9897",
   "metadata": {},
   "outputs": [],
   "source": [
    "import warnings\n",
    "warnings.filterwarnings('ignore')\n",
    "\n",
    "import numpy as np\n",
    "import pandas as pd\n",
    "\n",
    "import matplotlib.pyplot as plt\n",
    "import seaborn as sns\n",
    "\n",
    "from sklearn.metrics.pairwise import cosine_similarity\n",
    "\n",
    "from sklearn.metrics import mean_squared_error"
   ]
  },
  {
   "cell_type": "code",
   "execution_count": 3,
   "id": "260e20c8",
   "metadata": {},
   "outputs": [],
   "source": [
    "df = pd.read_csv('C:/Users/hp/Downloads/archive/ratings_Electronics.csv', header=None) \n",
    "\n",
    "df.columns = ['user_id', 'prod_id', 'rating', 'timestamp']\n",
    "\n",
    "df = df.drop('timestamp', axis=1)\n",
    "\n",
    "df_copy = df.copy(deep=True) "
   ]
  },
  {
   "cell_type": "code",
   "execution_count": 4,
   "id": "b5908691",
   "metadata": {},
   "outputs": [
    {
     "name": "stdout",
     "output_type": "stream",
     "text": [
      "No of rows =  7824482\n",
      "No of columns =  3\n"
     ]
    }
   ],
   "source": [
    "rows, columns = df.shape\n",
    "print(\"No of rows = \", rows)\n",
    "print(\"No of columns = \", columns)"
   ]
  },
  {
   "cell_type": "code",
   "execution_count": 5,
   "id": "83367b34",
   "metadata": {},
   "outputs": [
    {
     "name": "stdout",
     "output_type": "stream",
     "text": [
      "<class 'pandas.core.frame.DataFrame'>\n",
      "RangeIndex: 7824482 entries, 0 to 7824481\n",
      "Data columns (total 3 columns):\n",
      " #   Column   Dtype  \n",
      "---  ------   -----  \n",
      " 0   user_id  object \n",
      " 1   prod_id  object \n",
      " 2   rating   float64\n",
      "dtypes: float64(1), object(2)\n",
      "memory usage: 179.1+ MB\n"
     ]
    }
   ],
   "source": [
    "df.info()"
   ]
  },
  {
   "cell_type": "code",
   "execution_count": 6,
   "id": "9351de2e",
   "metadata": {},
   "outputs": [
    {
     "data": {
      "text/plain": [
       "user_id    0\n",
       "prod_id    0\n",
       "rating     0\n",
       "dtype: int64"
      ]
     },
     "execution_count": 6,
     "metadata": {},
     "output_type": "execute_result"
    }
   ],
   "source": [
    "df.isna().sum()"
   ]
  },
  {
   "cell_type": "code",
   "execution_count": 7,
   "id": "2a15cd16",
   "metadata": {},
   "outputs": [
    {
     "data": {
      "text/plain": [
       "count    7.824482e+06\n",
       "mean     4.012337e+00\n",
       "std      1.380910e+00\n",
       "min      1.000000e+00\n",
       "25%      3.000000e+00\n",
       "50%      5.000000e+00\n",
       "75%      5.000000e+00\n",
       "max      5.000000e+00\n",
       "Name: rating, dtype: float64"
      ]
     },
     "execution_count": 7,
     "metadata": {},
     "output_type": "execute_result"
    }
   ],
   "source": [
    "df['rating'].describe()"
   ]
  },
  {
   "cell_type": "code",
   "execution_count": 8,
   "id": "6c43e442",
   "metadata": {},
   "outputs": [
    {
     "data": {
      "image/png": "[encoded data removed]",
      "text/plain": [
       "<Figure size 1200x600 with 1 Axes>"
      ]
     },
     "metadata": {},
     "output_type": "display_data"
    }
   ],
   "source": [
    "plt.figure(figsize = (12,6))\n",
    "df['rating'].value_counts(1).plot(kind='bar')\n",
    "plt.show()"
   ]
  },
  {
   "cell_type": "code",
   "execution_count": 9,
   "id": "c771f2d3",
   "metadata": {},
   "outputs": [
    {
     "name": "stdout",
     "output_type": "stream",
     "text": [
      "Number of unique USERS in Raw data =  4201696\n",
      "Number of unique ITEMS in Raw data =  476002\n"
     ]
    }
   ],
   "source": [
    "print('Number of unique USERS in Raw data = ', df['user_id'].nunique())\n",
    "print('Number of unique ITEMS in Raw data = ', df['prod_id'].nunique())"
   ]
  },
  {
   "cell_type": "code",
   "execution_count": 10,
   "id": "1d64cfe3",
   "metadata": {},
   "outputs": [
    {
     "data": {
      "text/plain": [
       "user_id\n",
       "A5JLAU2ARJ0BO     520\n",
       "ADLVFFE4VBT8      501\n",
       "A3OXHLG6DIBRW8    498\n",
       "A6FIAB28IS79      431\n",
       "A680RUE1FDO8B     406\n",
       "A1ODOGXEYECQQ8    380\n",
       "A36K2N527TXXJN    314\n",
       "A2AY4YUOX2N1BQ    311\n",
       "AWPODHOB4GFWL     308\n",
       "A25C2M3QF9G7OQ    296\n",
       "dtype: int64"
      ]
     },
     "execution_count": 10,
     "metadata": {},
     "output_type": "execute_result"
    }
   ],
   "source": [
    "most_rated = df.groupby('user_id').size().sort_values(ascending=False)[:10]\n",
    "most_rated"
   ]
  },
  {
   "cell_type": "code",
   "execution_count": 11,
   "id": "00a005a2",
   "metadata": {},
   "outputs": [],
   "source": [
    "counts = df['user_id'].value_counts()\n",
    "df_final = df[df['user_id'].isin(counts[counts >= 50].index)]"
   ]
  },
  {
   "cell_type": "code",
   "execution_count": 12,
   "id": "4cdf11ee",
   "metadata": {},
   "outputs": [
    {
     "name": "stdout",
     "output_type": "stream",
     "text": [
      "The number of observations in the final data = 125871\n",
      "Number of unique USERS in the final data =  1540\n",
      "Number of unique PRODUCTS in the final data =  48190\n"
     ]
    }
   ],
   "source": [
    "print('The number of observations in the final data =', len(df_final))\n",
    "print('Number of unique USERS in the final data = ', df_final['user_id'].nunique())\n",
    "print('Number of unique PRODUCTS in the final data = ', df_final['prod_id'].nunique())"
   ]
  },
  {
   "cell_type": "code",
   "execution_count": 13,
   "id": "c49662ea",
   "metadata": {},
   "outputs": [
    {
     "name": "stdout",
     "output_type": "stream",
     "text": [
      "Shape of final_ratings_matrix:  (1540, 48190)\n",
      "given_num_of_ratings =  125871\n",
      "possible_num_of_ratings =  74212600\n",
      "density: 0.17%\n"
     ]
    },
    {
     "data": {
      "text/html": [
       "<div>\n",
       "<style scoped>\n",
       "    .dataframe tbody tr th:only-of-type {\n",
       "        vertical-align: middle;\n",
       "    }\n",
       "\n",
       "    .dataframe tbody tr th {\n",
       "        vertical-align: top;\n",
       "    }\n",
       "\n",
       "    .dataframe thead th {\n",
       "        text-align: right;\n",
       "    }\n",
       "</style>\n",
       "<table border=\"1\" class=\"dataframe\">\n",
       "  <thead>\n",
       "    <tr style=\"text-align: right;\">\n",
       "      <th>prod_id</th>\n",
       "      <th>0594451647</th>\n",
       "      <th>0594481813</th>\n",
       "      <th>0970407998</th>\n",
       "      <th>0972683275</th>\n",
       "      <th>1400501466</th>\n",
       "      <th>1400501520</th>\n",
       "      <th>1400501776</th>\n",
       "      <th>1400532620</th>\n",
       "      <th>1400532655</th>\n",
       "      <th>140053271X</th>\n",
       "      <th>...</th>\n",
       "      <th>B00L5YZCCG</th>\n",
       "      <th>B00L8I6SFY</th>\n",
       "      <th>B00L8QCVL6</th>\n",
       "      <th>B00LA6T0LS</th>\n",
       "      <th>B00LBZ1Z7K</th>\n",
       "      <th>B00LED02VY</th>\n",
       "      <th>B00LGN7Y3G</th>\n",
       "      <th>B00LGQ6HL8</th>\n",
       "      <th>B00LI4ZZO8</th>\n",
       "      <th>B00LKG1MC8</th>\n",
       "    </tr>\n",
       "    <tr>\n",
       "      <th>user_id</th>\n",
       "      <th></th>\n",
       "      <th></th>\n",
       "      <th></th>\n",
       "      <th></th>\n",
       "      <th></th>\n",
       "      <th></th>\n",
       "      <th></th>\n",
       "      <th></th>\n",
       "      <th></th>\n",
       "      <th></th>\n",
       "      <th></th>\n",
       "      <th></th>\n",
       "      <th></th>\n",
       "      <th></th>\n",
       "      <th></th>\n",
       "      <th></th>\n",
       "      <th></th>\n",
       "      <th></th>\n",
       "      <th></th>\n",
       "      <th></th>\n",
       "      <th></th>\n",
       "    </tr>\n",
       "  </thead>\n",
       "  <tbody>\n",
       "    <tr>\n",
       "      <th>A100UD67AHFODS</th>\n",
       "      <td>0.0</td>\n",
       "      <td>0.0</td>\n",
       "      <td>0.0</td>\n",
       "      <td>0.0</td>\n",
       "      <td>0.0</td>\n",
       "      <td>0.0</td>\n",
       "      <td>0.0</td>\n",
       "      <td>0.0</td>\n",
       "      <td>0.0</td>\n",
       "      <td>0.0</td>\n",
       "      <td>...</td>\n",
       "      <td>0.0</td>\n",
       "      <td>0.0</td>\n",
       "      <td>0.0</td>\n",
       "      <td>0.0</td>\n",
       "      <td>0.0</td>\n",
       "      <td>0.0</td>\n",
       "      <td>0.0</td>\n",
       "      <td>0.0</td>\n",
       "      <td>0.0</td>\n",
       "      <td>0.0</td>\n",
       "    </tr>\n",
       "    <tr>\n",
       "      <th>A100WO06OQR8BQ</th>\n",
       "      <td>0.0</td>\n",
       "      <td>0.0</td>\n",
       "      <td>0.0</td>\n",
       "      <td>0.0</td>\n",
       "      <td>0.0</td>\n",
       "      <td>0.0</td>\n",
       "      <td>0.0</td>\n",
       "      <td>0.0</td>\n",
       "      <td>0.0</td>\n",
       "      <td>0.0</td>\n",
       "      <td>...</td>\n",
       "      <td>0.0</td>\n",
       "      <td>0.0</td>\n",
       "      <td>0.0</td>\n",
       "      <td>0.0</td>\n",
       "      <td>0.0</td>\n",
       "      <td>0.0</td>\n",
       "      <td>0.0</td>\n",
       "      <td>0.0</td>\n",
       "      <td>0.0</td>\n",
       "      <td>0.0</td>\n",
       "    </tr>\n",
       "    <tr>\n",
       "      <th>A105S56ODHGJEK</th>\n",
       "      <td>0.0</td>\n",
       "      <td>0.0</td>\n",
       "      <td>0.0</td>\n",
       "      <td>0.0</td>\n",
       "      <td>0.0</td>\n",
       "      <td>0.0</td>\n",
       "      <td>0.0</td>\n",
       "      <td>0.0</td>\n",
       "      <td>0.0</td>\n",
       "      <td>0.0</td>\n",
       "      <td>...</td>\n",
       "      <td>0.0</td>\n",
       "      <td>0.0</td>\n",
       "      <td>0.0</td>\n",
       "      <td>0.0</td>\n",
       "      <td>0.0</td>\n",
       "      <td>0.0</td>\n",
       "      <td>0.0</td>\n",
       "      <td>0.0</td>\n",
       "      <td>0.0</td>\n",
       "      <td>0.0</td>\n",
       "    </tr>\n",
       "    <tr>\n",
       "      <th>A105TOJ6LTVMBG</th>\n",
       "      <td>0.0</td>\n",
       "      <td>0.0</td>\n",
       "      <td>0.0</td>\n",
       "      <td>0.0</td>\n",
       "      <td>0.0</td>\n",
       "      <td>0.0</td>\n",
       "      <td>0.0</td>\n",
       "      <td>0.0</td>\n",
       "      <td>0.0</td>\n",
       "      <td>0.0</td>\n",
       "      <td>...</td>\n",
       "      <td>0.0</td>\n",
       "      <td>0.0</td>\n",
       "      <td>0.0</td>\n",
       "      <td>0.0</td>\n",
       "      <td>0.0</td>\n",
       "      <td>0.0</td>\n",
       "      <td>0.0</td>\n",
       "      <td>0.0</td>\n",
       "      <td>0.0</td>\n",
       "      <td>0.0</td>\n",
       "    </tr>\n",
       "    <tr>\n",
       "      <th>A10AFVU66A79Y1</th>\n",
       "      <td>0.0</td>\n",
       "      <td>0.0</td>\n",
       "      <td>0.0</td>\n",
       "      <td>0.0</td>\n",
       "      <td>0.0</td>\n",
       "      <td>0.0</td>\n",
       "      <td>0.0</td>\n",
       "      <td>0.0</td>\n",
       "      <td>0.0</td>\n",
       "      <td>0.0</td>\n",
       "      <td>...</td>\n",
       "      <td>0.0</td>\n",
       "      <td>0.0</td>\n",
       "      <td>0.0</td>\n",
       "      <td>0.0</td>\n",
       "      <td>0.0</td>\n",
       "      <td>0.0</td>\n",
       "      <td>0.0</td>\n",
       "      <td>0.0</td>\n",
       "      <td>0.0</td>\n",
       "      <td>0.0</td>\n",
       "    </tr>\n",
       "  </tbody>\n",
       "</table>\n",
       "<p>5 rows × 48190 columns</p>\n",
       "</div>"
      ],
      "text/plain": [
       "prod_id         0594451647  0594481813  0970407998  0972683275  1400501466  \\\n",
       "user_id                                                                      \n",
       "A100UD67AHFODS         0.0         0.0         0.0         0.0         0.0   \n",
       "A100WO06OQR8BQ         0.0         0.0         0.0         0.0         0.0   \n",
       "A105S56ODHGJEK         0.0         0.0         0.0         0.0         0.0   \n",
       "A105TOJ6LTVMBG         0.0         0.0         0.0         0.0         0.0   \n",
       "A10AFVU66A79Y1         0.0         0.0         0.0         0.0         0.0   \n",
       "\n",
       "prod_id         1400501520  1400501776  1400532620  1400532655  140053271X  \\\n",
       "user_id                                                                      \n",
       "A100UD67AHFODS         0.0         0.0         0.0         0.0         0.0   \n",
       "A100WO06OQR8BQ         0.0         0.0         0.0         0.0         0.0   \n",
       "A105S56ODHGJEK         0.0         0.0         0.0         0.0         0.0   \n",
       "A105TOJ6LTVMBG         0.0         0.0         0.0         0.0         0.0   \n",
       "A10AFVU66A79Y1         0.0         0.0         0.0         0.0         0.0   \n",
       "\n",
       "prod_id         ...  B00L5YZCCG  B00L8I6SFY  B00L8QCVL6  B00LA6T0LS  \\\n",
       "user_id         ...                                                   \n",
       "A100UD67AHFODS  ...         0.0         0.0         0.0         0.0   \n",
       "A100WO06OQR8BQ  ...         0.0         0.0         0.0         0.0   \n",
       "A105S56ODHGJEK  ...         0.0         0.0         0.0         0.0   \n",
       "A105TOJ6LTVMBG  ...         0.0         0.0         0.0         0.0   \n",
       "A10AFVU66A79Y1  ...         0.0         0.0         0.0         0.0   \n",
       "\n",
       "prod_id         B00LBZ1Z7K  B00LED02VY  B00LGN7Y3G  B00LGQ6HL8  B00LI4ZZO8  \\\n",
       "user_id                                                                      \n",
       "A100UD67AHFODS         0.0         0.0         0.0         0.0         0.0   \n",
       "A100WO06OQR8BQ         0.0         0.0         0.0         0.0         0.0   \n",
       "A105S56ODHGJEK         0.0         0.0         0.0         0.0         0.0   \n",
       "A105TOJ6LTVMBG         0.0         0.0         0.0         0.0         0.0   \n",
       "A10AFVU66A79Y1         0.0         0.0         0.0         0.0         0.0   \n",
       "\n",
       "prod_id         B00LKG1MC8  \n",
       "user_id                     \n",
       "A100UD67AHFODS         0.0  \n",
       "A100WO06OQR8BQ         0.0  \n",
       "A105S56ODHGJEK         0.0  \n",
       "A105TOJ6LTVMBG         0.0  \n",
       "A10AFVU66A79Y1         0.0  \n",
       "\n",
       "[5 rows x 48190 columns]"
      ]
     },
     "execution_count": 13,
     "metadata": {},
     "output_type": "execute_result"
    }
   ],
   "source": [
    "final_ratings_matrix = df_final.pivot(index = 'user_id', columns ='prod_id', values = 'rating').fillna(0)\n",
    "print('Shape of final_ratings_matrix: ', final_ratings_matrix.shape)\n",
    "\n",
    "given_num_of_ratings = np.count_nonzero(final_ratings_matrix)\n",
    "print('given_num_of_ratings = ', given_num_of_ratings)\n",
    "\n",
    "possible_num_of_ratings = final_ratings_matrix.shape[0] * final_ratings_matrix.shape[1]\n",
    "print('possible_num_of_ratings = ', possible_num_of_ratings)\n",
    "\n",
    "density = (given_num_of_ratings/possible_num_of_ratings)\n",
    "density *= 100\n",
    "print ('density: {:4.2f}%'.format(density))\n",
    "\n",
    "final_ratings_matrix.head()"
   ]
  },
  {
   "cell_type": "code",
   "execution_count": 14,
   "id": "583b321f",
   "metadata": {},
   "outputs": [
    {
     "data": {
      "text/html": [
       "<div>\n",
       "<style scoped>\n",
       "    .dataframe tbody tr th:only-of-type {\n",
       "        vertical-align: middle;\n",
       "    }\n",
       "\n",
       "    .dataframe tbody tr th {\n",
       "        vertical-align: top;\n",
       "    }\n",
       "\n",
       "    .dataframe thead th {\n",
       "        text-align: right;\n",
       "    }\n",
       "</style>\n",
       "<table border=\"1\" class=\"dataframe\">\n",
       "  <thead>\n",
       "    <tr style=\"text-align: right;\">\n",
       "      <th></th>\n",
       "      <th>avg_rating</th>\n",
       "      <th>rating_count</th>\n",
       "    </tr>\n",
       "    <tr>\n",
       "      <th>prod_id</th>\n",
       "      <th></th>\n",
       "      <th></th>\n",
       "    </tr>\n",
       "  </thead>\n",
       "  <tbody>\n",
       "    <tr>\n",
       "      <th>0594451647</th>\n",
       "      <td>5.0</td>\n",
       "      <td>1</td>\n",
       "    </tr>\n",
       "    <tr>\n",
       "      <th>B003RRY9RS</th>\n",
       "      <td>5.0</td>\n",
       "      <td>1</td>\n",
       "    </tr>\n",
       "    <tr>\n",
       "      <th>B003RR95Q8</th>\n",
       "      <td>5.0</td>\n",
       "      <td>1</td>\n",
       "    </tr>\n",
       "    <tr>\n",
       "      <th>B003RIPMZU</th>\n",
       "      <td>5.0</td>\n",
       "      <td>1</td>\n",
       "    </tr>\n",
       "    <tr>\n",
       "      <th>B003RFRNYQ</th>\n",
       "      <td>5.0</td>\n",
       "      <td>2</td>\n",
       "    </tr>\n",
       "  </tbody>\n",
       "</table>\n",
       "</div>"
      ],
      "text/plain": [
       "            avg_rating  rating_count\n",
       "prod_id                             \n",
       "0594451647         5.0             1\n",
       "B003RRY9RS         5.0             1\n",
       "B003RR95Q8         5.0             1\n",
       "B003RIPMZU         5.0             1\n",
       "B003RFRNYQ         5.0             2"
      ]
     },
     "execution_count": 14,
     "metadata": {},
     "output_type": "execute_result"
    }
   ],
   "source": [
    "average_rating = df_final.groupby('prod_id').mean()['rating']\n",
    "\n",
    "count_rating = df_final.groupby('prod_id').count()['rating']\n",
    "\n",
    "final_rating = pd.DataFrame({'avg_rating':average_rating, 'rating_count':count_rating})\n",
    "\n",
    "final_rating = final_rating.sort_values(by='avg_rating',ascending=False)\n",
    "\n",
    "final_rating.head()"
   ]
  },
  {
   "cell_type": "code",
   "execution_count": 15,
   "id": "33efab40",
   "metadata": {},
   "outputs": [],
   "source": [
    "def top_n_products(final_rating, n, min_interaction):\n",
    "    \n",
    "    recommendations = final_rating[final_rating['rating_count']>min_interaction]\n",
    "    \n",
    "    recommendations = recommendations.sort_values('avg_rating',ascending=False)\n",
    "    \n",
    "    return recommendations.index[:n]"
   ]
  },
  {
   "cell_type": "code",
   "execution_count": 17,
   "id": "e901d838",
   "metadata": {},
   "outputs": [
    {
     "data": {
      "text/plain": [
       "['B001TH7GUU', 'B003ES5ZUU', 'B0019EHU8G', 'B006W8U2MU', 'B000QUUFRW']"
      ]
     },
     "execution_count": 17,
     "metadata": {},
     "output_type": "execute_result"
    }
   ],
   "source": [
    "list(top_n_products(final_rating, 5, 50)) # It recommend top 5 products"
   ]
  },
  {
   "cell_type": "code",
   "execution_count": null,
   "id": "c3fc9e8e",
   "metadata": {},
   "outputs": [],
   "source": []
  }
 ],
 "metadata": {
  "kernelspec": {
   "display_name": "Python 3 (ipykernel)",
   "language": "python",
   "name": "python3"
  },
  "language_info": {
   "codemirror_mode": {
    "name": "ipython",
    "version": 3
   },
   "file_extension": ".py",
   "mimetype": "text/x-python",
   "name": "python",
   "nbconvert_exporter": "python",
   "pygments_lexer": "ipython3",
   "version": "3.11.4"
  }
 },
 "nbformat": 4,
 "nbformat_minor": 5
}
